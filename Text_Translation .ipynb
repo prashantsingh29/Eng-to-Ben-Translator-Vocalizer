{
 "cells": [
  {
   "cell_type": "code",
   "execution_count": 1,
   "id": "54897f3c",
   "metadata": {},
   "outputs": [],
   "source": [
    "from gtts import gTTS\n",
    "from playsound import playsound\n",
    "from transformers import MBartForConditionalGeneration, MBart50TokenizerFast\n"
   ]
  },
  {
   "cell_type": "code",
   "execution_count": 2,
   "id": "776a8fbc",
   "metadata": {},
   "outputs": [
    {
     "name": "stderr",
     "output_type": "stream",
     "text": [
      "/Users/prashantsingh/opt/anaconda3/lib/python3.9/site-packages/huggingface_hub/file_download.py:1132: FutureWarning: `resume_download` is deprecated and will be removed in version 1.0.0. Downloads always resume when possible. If you want to force a new download, use `force_download=True`.\n",
      "  warnings.warn(\n"
     ]
    }
   ],
   "source": [
    "model = MBartForConditionalGeneration.from_pretrained(\"facebook/mbart-large-50-many-to-many-mmt\")\n",
    "tokenizer = MBart50TokenizerFast.from_pretrained(\"facebook/mbart-large-50-many-to-many-mmt\")\n"
   ]
  },
  {
   "cell_type": "code",
   "execution_count": 3,
   "id": "4abb7fb2",
   "metadata": {},
   "outputs": [],
   "source": [
    "def translator(article_eng):\n",
    "    # translate English to Bangali\n",
    "    tokenizer.src_lang = \"en_XX\"\n",
    "    encoded_ar = tokenizer(article_eng, return_tensors=\"pt\")\n",
    "    generated_tokens = model.generate(\n",
    "        **encoded_ar,\n",
    "        forced_bos_token_id=tokenizer.lang_code_to_id[\"bn_IN\"]\n",
    "    )\n",
    "    decoded_bg=tokenizer.batch_decode(generated_tokens, skip_special_tokens=True)\n",
    "    bangali_text=\"\"\n",
    "    for i in decoded_bg:\n",
    "        bangali_text+=i\n",
    "    print(bangali_text)\n",
    "    tts = gTTS(bangali_text, lang='bn')\n",
    "    tts.save(\"output.mp3\")\n",
    "    playsound(\"output.mp3\")"
   ]
  },
  {
   "cell_type": "code",
   "execution_count": 10,
   "id": "08e6cc67",
   "metadata": {},
   "outputs": [
    {
     "name": "stdout",
     "output_type": "stream",
     "text": [
      "Can you help me\n",
      "আপনারা আমাকে সাহায ্ য করতে পারবেন?\n"
     ]
    }
   ],
   "source": [
    "article=input()\n",
    "translator(article)\n",
    "\n",
    "\n",
    "\n",
    "\n"
   ]
  },
  {
   "cell_type": "code",
   "execution_count": null,
   "id": "d994df35",
   "metadata": {},
   "outputs": [],
   "source": []
  }
 ],
 "metadata": {
  "kernelspec": {
   "display_name": "Python 3 (ipykernel)",
   "language": "python",
   "name": "python3"
  },
  "language_info": {
   "codemirror_mode": {
    "name": "ipython",
    "version": 3
   },
   "file_extension": ".py",
   "mimetype": "text/x-python",
   "name": "python",
   "nbconvert_exporter": "python",
   "pygments_lexer": "ipython3",
   "version": "3.9.13"
  }
 },
 "nbformat": 4,
 "nbformat_minor": 5
}
